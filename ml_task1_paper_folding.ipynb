{
 "cells": [
  {
   "cell_type": "markdown",
   "id": "d4a36217-6250-4c76-b922-f9590999fd3f",
   "metadata": {},
   "source": [
    "# Problem 1"
   ]
  },
  {
   "cell_type": "code",
   "execution_count": 12,
   "id": "b72acf74-fd6d-45cf-b213-7d3499bb3068",
   "metadata": {},
   "outputs": [
    {
     "name": "stdout",
     "output_type": "stream",
     "text": [
      "Thickness: 0.00016 meters\n"
     ]
    }
   ],
   "source": [
    "\n",
    "#paper folded only one time\n",
    "\n",
    "THICKNESS = 0.00008\n",
    "\n",
    "folded_thickness = THICKNESS * 2\n",
    "\n",
    "print(\"Thickness: {} meters\".format(folded_thickness))"
   ]
  },
  {
   "cell_type": "code",
   "execution_count": 13,
   "id": "1d7ad08c-f6c1-4976-96f7-37a1a2dd15a2",
   "metadata": {},
   "outputs": [
    {
     "name": "stdout",
     "output_type": "stream",
     "text": [
      "Thickness: 703687441.77664 meters\n"
     ]
    }
   ],
   "source": [
    "#paper folded 43 time\n",
    "\n",
    "THICKNESS = 0.00008\n",
    "folding_times = 43\n",
    "for i in (range(folding_times)):\n",
    "    THICKNESS = THICKNESS * 2\n",
    "print(\"Thickness: {} meters\".format(THICKNESS))"
   ]
  },
  {
   "cell_type": "markdown",
   "id": "3101799b-cfeb-42bc-a742-7549486cb5bd",
   "metadata": {},
   "source": [
    "# Problem 2 Unit conversion\n"
   ]
  },
  {
   "cell_type": "code",
   "execution_count": 14,
   "id": "287b246c-58d4-4b78-94d2-7ae0e5d8851d",
   "metadata": {},
   "outputs": [
    {
     "name": "stdout",
     "output_type": "stream",
     "text": [
      "Thickness:  703687.44 kilometers\n"
     ]
    }
   ],
   "source": [
    "#print(\"Thinkness: {: .2f} ten thousends kilometers\").format(folded_thickness / (1000*10000)))\n",
    "print(\"Thickness: {: .2f} kilometers\".format(THICKNESS / 1000))"
   ]
  },
  {
   "cell_type": "markdown",
   "id": "475793fb-685c-4476-8ca1-557791ad49f4",
   "metadata": {},
   "source": [
    "# [Problem 3] Create using a for statement"
   ]
  },
  {
   "cell_type": "code",
   "execution_count": 15,
   "id": "ce5a890f-28fd-42a2-8017-f64da247ff7e",
   "metadata": {},
   "outputs": [
    {
     "name": "stdout",
     "output_type": "stream",
     "text": [
      "Thickness:  70.37 ten thousands kilometers\n"
     ]
    }
   ],
   "source": [
    "THICKNESS = 0.00008\n",
    "folding_times = 43\n",
    "\n",
    "for i in range(folding_times):\n",
    "    THICKNESS = THICKNESS * 2\n",
    "    \n",
    "print(\"Thickness: {: .2f} ten thousands kilometers\".format(THICKNESS / (1000*10000)))"
   ]
  },
  {
   "cell_type": "markdown",
   "id": "947ba55c-9b87-427b-b7e2-b3cb44516d61",
   "metadata": {},
   "source": [
    "# Problem 4"
   ]
  },
  {
   "cell_type": "code",
   "execution_count": 30,
   "id": "a9bd6a4d-1615-4927-bf19-a15fe9aaf603",
   "metadata": {},
   "outputs": [
    {
     "name": "stdout",
     "output_type": "stream",
     "text": [
      "1714697116.4267557\n"
     ]
    }
   ],
   "source": [
    "import time\n",
    "# Method 1\n",
    "start = time.time()\n",
    "\n",
    "print(start)"
   ]
  },
  {
   "cell_type": "code",
   "execution_count": 31,
   "id": "47fe20ff-0628-4789-b54c-041bf8a742ee",
   "metadata": {},
   "outputs": [
    {
     "name": "stdout",
     "output_type": "stream",
     "text": [
      "Execution time for method 1: 0.0 [s]\n"
     ]
    }
   ],
   "source": [
    "# Method 1\n",
    "start = time.time()\n",
    "#####\n",
    "THICKNESS = 0.00008\n",
    "\n",
    "folded_thickness = THICKNESS * (2 ** folding_times)\n",
    "#####\n",
    "elapsed_time = time.time() - start\n",
    "print(\"Execution time for method 1: {} [s]\".format(elapsed_time*(10**6)))"
   ]
  },
  {
   "cell_type": "code",
   "execution_count": 32,
   "id": "791585a7-eb00-448a-9ff2-70d1504a4716",
   "metadata": {},
   "outputs": [
    {
     "name": "stdout",
     "output_type": "stream",
     "text": [
      "Execution time for method 2: 0.0 [s]\n"
     ]
    }
   ],
   "source": [
    "# Method 2\n",
    "start = time.time()\n",
    "#####\n",
    "THICKNESS = 0.00008\n",
    "\n",
    "for i in range(folding_times):\n",
    "    THICKNESS = THICKNESS * 2\n",
    "#####\n",
    "elapsed_time = time.time() - start\n",
    "print(\"Execution time for method 2: {} [s]\".format(elapsed_time*(10**6)))"
   ]
  },
  {
   "cell_type": "code",
   "execution_count": 33,
   "id": "4d3552fc-c579-417a-9f67-3028f47dfb6a",
   "metadata": {},
   "outputs": [
    {
     "name": "stdout",
     "output_type": "stream",
     "text": [
      "735 ns ± 42.5 ns per loop (mean ± std. dev. of 7 runs, 1,000,000 loops each)\n"
     ]
    }
   ],
   "source": [
    "%%timeit\n",
    "THICKNESS = 0.00008\n",
    "folded_thickness = THICKNESS * (2 ** folding_times)"
   ]
  },
  {
   "cell_type": "code",
   "execution_count": 34,
   "id": "bd073baf-57f6-4cca-9ee2-d29d214c0ab7",
   "metadata": {},
   "outputs": [
    {
     "name": "stdout",
     "output_type": "stream",
     "text": [
      "6.64 µs ± 310 ns per loop (mean ± std. dev. of 7 runs, 100,000 loops each)\n"
     ]
    }
   ],
   "source": [
    "%%timeit\n",
    "THICKNESS = 0.00008\n",
    "for i in range(folding_times):\n",
    "    THICKNESS = THICKNESS * 2"
   ]
  },
  {
   "cell_type": "markdown",
   "id": "47bf68ca-5d05-4455-baf3-5a496cf6239e",
   "metadata": {},
   "source": [
    "## [Problem 5] Saving to a list"
   ]
  },
  {
   "cell_type": "code",
   "execution_count": 35,
   "id": "cf985e3e-6c7b-45f3-92e2-66f6bf04687b",
   "metadata": {},
   "outputs": [
    {
     "name": "stdout",
     "output_type": "stream",
     "text": [
      "[8e-05, 0.00016, 0.00032, 0.00064, 0.00128, 0.00256, 0.00512, 0.01024, 0.02048, 0.04096, 0.08192, 0.16384, 0.32768, 0.65536, 1.31072, 2.62144, 5.24288, 10.48576, 20.97152, 41.94304, 83.88608, 167.77216, 335.54432, 671.08864, 1342.17728, 2684.35456, 5368.70912, 10737.41824, 21474.83648, 42949.67296, 85899.34592, 171798.69184, 343597.38368, 687194.76736, 1374389.53472, 2748779.06944, 5497558.13888, 10995116.27776, 21990232.55552, 43980465.11104, 87960930.22208, 175921860.44416, 351843720.88832, 703687441.77664]\n"
     ]
    },
    {
     "data": {
      "text/plain": [
       "44"
      ]
     },
     "execution_count": 35,
     "metadata": {},
     "output_type": "execute_result"
    }
   ],
   "source": [
    "THICKNESS = 0.00008\n",
    "folded_thickness = [] #list\n",
    "folded_thickness.append(THICKNESS) #initial value\n",
    "\n",
    "for i in range(folding_times):\n",
    "    THICKNESS = THICKNESS * 2\n",
    "    folded_thickness.append(THICKNESS)\n",
    "print(folded_thickness)\n",
    "len(folded_thickness)"
   ]
  },
  {
   "cell_type": "markdown",
   "id": "16ae2caa-78d4-449e-bfa7-a6556ceeac86",
   "metadata": {},
   "source": [
    "## [Problem 6] Displaying a line graph"
   ]
  },
  {
   "cell_type": "code",
   "execution_count": 39,
   "id": "aa0f6eb6-fcb6-4fda-9160-989541694e96",
   "metadata": {},
   "outputs": [
    {
     "name": "stdout",
     "output_type": "stream",
     "text": [
      "Collecting matplotlib\n",
      "  Downloading matplotlib-3.8.4-cp310-cp310-win_amd64.whl (7.7 MB)\n",
      "     ---------------------------------------- 0.0/7.7 MB ? eta -:--:--\n",
      "     ---------------------------------------- 0.0/7.7 MB ? eta -:--:--\n",
      "     ---------------------------------------- 0.0/7.7 MB 435.7 kB/s eta 0:00:18\n",
      "     ---------------------------------------- 0.0/7.7 MB 435.7 kB/s eta 0:00:18\n",
      "     ---------------------------------------- 0.0/7.7 MB 178.6 kB/s eta 0:00:43\n",
      "     ---------------------------------------- 0.1/7.7 MB 252.2 kB/s eta 0:00:31\n",
      "      --------------------------------------- 0.1/7.7 MB 385.0 kB/s eta 0:00:20\n",
      "      --------------------------------------- 0.1/7.7 MB 385.0 kB/s eta 0:00:20\n",
      "      --------------------------------------- 0.1/7.7 MB 313.8 kB/s eta 0:00:25\n",
      "     - -------------------------------------- 0.2/7.7 MB 454.0 kB/s eta 0:00:17\n",
      "     - -------------------------------------- 0.3/7.7 MB 524.0 kB/s eta 0:00:15\n",
      "     - -------------------------------------- 0.3/7.7 MB 553.0 kB/s eta 0:00:14\n",
      "     - -------------------------------------- 0.3/7.7 MB 563.8 kB/s eta 0:00:13\n",
      "     -- ------------------------------------- 0.5/7.7 MB 756.6 kB/s eta 0:00:10\n",
      "     --- ------------------------------------ 0.6/7.7 MB 874.1 kB/s eta 0:00:09\n",
      "     --- ------------------------------------ 0.6/7.7 MB 929.5 kB/s eta 0:00:08\n",
      "     --- ------------------------------------ 0.7/7.7 MB 949.1 kB/s eta 0:00:08\n",
      "     ----- ---------------------------------- 1.0/7.7 MB 1.2 MB/s eta 0:00:06\n",
      "     ------ --------------------------------- 1.3/7.7 MB 1.5 MB/s eta 0:00:05\n",
      "     ------- -------------------------------- 1.4/7.7 MB 1.5 MB/s eta 0:00:05\n",
      "     -------- ------------------------------- 1.7/7.7 MB 1.8 MB/s eta 0:00:04\n",
      "     ----------- ---------------------------- 2.1/7.7 MB 2.1 MB/s eta 0:00:03\n",
      "     -------------- ------------------------- 2.7/7.7 MB 2.5 MB/s eta 0:00:02\n",
      "     -------------- ------------------------- 2.9/7.7 MB 2.6 MB/s eta 0:00:02\n",
      "     ------------------ --------------------- 3.5/7.7 MB 3.0 MB/s eta 0:00:02\n",
      "     --------------------- ------------------ 4.2/7.7 MB 3.3 MB/s eta 0:00:02\n",
      "     -------------------------- ------------- 5.1/7.7 MB 3.9 MB/s eta 0:00:01\n",
      "     ---------------------------------- ----- 6.5/7.7 MB 4.7 MB/s eta 0:00:01\n",
      "     ------------------------------------- -- 7.2/7.7 MB 5.2 MB/s eta 0:00:01\n",
      "     ------------------------------------- -- 7.2/7.7 MB 5.2 MB/s eta 0:00:01\n",
      "     ------------------------------------- -- 7.2/7.7 MB 5.2 MB/s eta 0:00:01\n",
      "     ---------------------------------------  7.6/7.7 MB 4.9 MB/s eta 0:00:01\n",
      "     ---------------------------------------  7.6/7.7 MB 4.9 MB/s eta 0:00:01\n",
      "     ---------------------------------------- 7.7/7.7 MB 4.6 MB/s eta 0:00:00\n",
      "Collecting numpy>=1.21\n",
      "  Downloading numpy-1.26.4-cp310-cp310-win_amd64.whl (15.8 MB)\n",
      "     ---------------------------------------- 0.0/15.8 MB ? eta -:--:--\n",
      "     ----- ---------------------------------- 2.3/15.8 MB 47.7 MB/s eta 0:00:01\n",
      "     ---------- ----------------------------- 4.0/15.8 MB 42.2 MB/s eta 0:00:01\n",
      "     ------------ --------------------------- 5.0/15.8 MB 35.7 MB/s eta 0:00:01\n",
      "     -------------- ------------------------- 5.9/15.8 MB 31.3 MB/s eta 0:00:01\n",
      "     ------------------ --------------------- 7.2/15.8 MB 29.0 MB/s eta 0:00:01\n",
      "     ----------------------- ---------------- 9.4/15.8 MB 29.9 MB/s eta 0:00:01\n",
      "     -------------------------- ------------ 10.7/15.8 MB 29.7 MB/s eta 0:00:01\n",
      "     ----------------------------- --------- 11.8/15.8 MB 26.2 MB/s eta 0:00:01\n",
      "     ------------------------------ -------- 12.3/15.8 MB 26.2 MB/s eta 0:00:01\n",
      "     ------------------------------ -------- 12.3/15.8 MB 26.2 MB/s eta 0:00:01\n",
      "     ------------------------------ -------- 12.3/15.8 MB 26.2 MB/s eta 0:00:01\n",
      "     ------------------------------ -------- 12.3/15.8 MB 26.2 MB/s eta 0:00:01\n",
      "     ----------------------------------- --- 14.5/15.8 MB 18.2 MB/s eta 0:00:01\n",
      "     --------------------------------------  15.8/15.8 MB 20.5 MB/s eta 0:00:01\n",
      "     --------------------------------------  15.8/15.8 MB 20.5 MB/s eta 0:00:01\n",
      "     --------------------------------------- 15.8/15.8 MB 16.8 MB/s eta 0:00:00\n",
      "Collecting kiwisolver>=1.3.1\n",
      "  Downloading kiwisolver-1.4.5-cp310-cp310-win_amd64.whl (56 kB)\n",
      "     ---------------------------------------- 0.0/56.1 kB ? eta -:--:--\n",
      "     ---------------------------------------- 56.1/56.1 kB 3.1 MB/s eta 0:00:00\n",
      "Collecting fonttools>=4.22.0\n",
      "  Downloading fonttools-4.51.0-cp310-cp310-win_amd64.whl (2.2 MB)\n",
      "     ---------------------------------------- 0.0/2.2 MB ? eta -:--:--\n",
      "     ------------------------------ --------- 1.6/2.2 MB 52.9 MB/s eta 0:00:01\n",
      "     ---------------------------------------- 2.2/2.2 MB 27.9 MB/s eta 0:00:00\n",
      "Requirement already satisfied: python-dateutil>=2.7 in c:\\users\\bilguun\\appdata\\local\\programs\\python\\python310\\lib\\site-packages (from matplotlib) (2.9.0.post0)\n",
      "Requirement already satisfied: pillow>=8 in c:\\users\\bilguun\\appdata\\local\\programs\\python\\python310\\lib\\site-packages (from matplotlib) (9.0.1)\n",
      "Collecting contourpy>=1.0.1\n",
      "  Downloading contourpy-1.2.1-cp310-cp310-win_amd64.whl (187 kB)\n",
      "     ---------------------------------------- 0.0/187.5 kB ? eta -:--:--\n",
      "     ---------------------------------------  184.3/187.5 kB ? eta -:--:--\n",
      "     -------------------------------------- 187.5/187.5 kB 3.8 MB/s eta 0:00:00\n",
      "Requirement already satisfied: pyparsing>=2.3.1 in c:\\users\\bilguun\\appdata\\local\\programs\\python\\python310\\lib\\site-packages (from matplotlib) (3.1.2)\n",
      "Requirement already satisfied: packaging>=20.0 in c:\\users\\bilguun\\appdata\\local\\programs\\python\\python310\\lib\\site-packages (from matplotlib) (24.0)\n",
      "Collecting cycler>=0.10\n",
      "  Downloading cycler-0.12.1-py3-none-any.whl (8.3 kB)\n",
      "Requirement already satisfied: six>=1.5 in c:\\users\\bilguun\\appdata\\local\\programs\\python\\python310\\lib\\site-packages (from python-dateutil>=2.7->matplotlib) (1.16.0)\n",
      "Installing collected packages: numpy, kiwisolver, fonttools, cycler, contourpy, matplotlib\n",
      "Successfully installed contourpy-1.2.1 cycler-0.12.1 fonttools-4.51.0 kiwisolver-1.4.5 matplotlib-3.8.4 numpy-1.26.4\n",
      "Note: you may need to restart the kernel to use updated packages.\n"
     ]
    },
    {
     "name": "stderr",
     "output_type": "stream",
     "text": [
      "  WARNING: The script f2py.exe is installed in 'C:\\Users\\bilguun\\AppData\\Local\\Programs\\Python\\Python310\\Scripts' which is not on PATH.\n",
      "  Consider adding this directory to PATH or, if you prefer to suppress this warning, use --no-warn-script-location.\n",
      "  WARNING: The scripts fonttools.exe, pyftmerge.exe, pyftsubset.exe and ttx.exe are installed in 'C:\\Users\\bilguun\\AppData\\Local\\Programs\\Python\\Python310\\Scripts' which is not on PATH.\n",
      "  Consider adding this directory to PATH or, if you prefer to suppress this warning, use --no-warn-script-location.\n",
      "\n",
      "[notice] A new release of pip is available: 23.0.1 -> 24.0\n",
      "[notice] To update, run: python.exe -m pip install --upgrade pip\n"
     ]
    }
   ],
   "source": [
    "pip install matplotlib\n"
   ]
  },
  {
   "cell_type": "code",
   "execution_count": 40,
   "id": "67a4e86d-7104-4097-ba27-cabcfc11007a",
   "metadata": {},
   "outputs": [],
   "source": [
    "import matplotlib.pyplot as plt\n",
    "%matplotlib inline"
   ]
  },
  {
   "cell_type": "code",
   "execution_count": 41,
   "id": "038c38f8-b0a5-467c-a6a1-ef74b70cd4a4",
   "metadata": {},
   "outputs": [
    {
     "data": {
      "image/png": "[encoded data removed]",
      "text/plain": [
       "<Figure size 640x480 with 1 Axes>"
      ]
     },
     "metadata": {},
     "output_type": "display_data"
    }
   ],
   "source": [
    "# Display the graph. Title and axis label name.\n",
    "plt.title(\"thickness of folded paper\")\n",
    "plt.xlabel(\"number of folds\")\n",
    "plt.ylabel(\"thickness [m]\")\n",
    "plt.plot(folded_thickness)  # Enter the variable name of the list in \"List name\"\n",
    "plt.show()"
   ]
  },
  {
   "cell_type": "markdown",
   "id": "85f2efd6-df10-4d02-87ff-d2e27cc92427",
   "metadata": {},
   "source": [
    "# problem 7"
   ]
  },
  {
   "cell_type": "code",
   "execution_count": 42,
   "id": "99356566-aee9-4188-8c32-6eff3f99f106",
   "metadata": {},
   "outputs": [
    {
     "data": {
      "image/png": "[encoded data removed]",
      "text/plain": [
       "<Figure size 640x480 with 1 Axes>"
      ]
     },
     "metadata": {},
     "output_type": "display_data"
    }
   ],
   "source": [
    "# Display a red line graph.\n",
    "plt.title(\"thickness of folded paper\", fontsize=20)\n",
    "plt.xlabel(\"number of folds\", fontsize=15)\n",
    "plt.ylabel(\"thickness [m]\", fontsize=15)\n",
    "plt.plot(folded_thickness, color='orange', linewidth=1.5, linestyle=':')\n",
    "plt.tick_params(labelsize=15)\n",
    "plt.show()"
   ]
  },
  {
   "cell_type": "code",
   "execution_count": null,
   "id": "e82244d1-e4df-4f48-8947-1538ce6c496a",
   "metadata": {},
   "outputs": [],
   "source": []
  }
 ],
 "metadata": {
  "kernelspec": {
   "display_name": "Python 3 (ipykernel)",
   "language": "python",
   "name": "python3"
  },
  "language_info": {
   "codemirror_mode": {
    "name": "ipython",
    "version": 3
   },
   "file_extension": ".py",
   "mimetype": "text/x-python",
   "name": "python",
   "nbconvert_exporter": "python",
   "pygments_lexer": "ipython3",
   "version": "3.10.11"
  }
 },
 "nbformat": 4,
 "nbformat_minor": 5
}
